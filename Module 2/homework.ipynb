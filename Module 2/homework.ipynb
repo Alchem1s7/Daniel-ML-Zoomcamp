{
 "cells": [
  {
   "cell_type": "code",
   "execution_count": 1,
   "id": "f6a154e3",
   "metadata": {},
   "outputs": [],
   "source": [
    "import pandas as pd\n",
    "import numpy as np\n",
    "import seaborn as sns\n",
    "import matplotlib.pyplot as plt"
   ]
  },
  {
   "cell_type": "code",
   "execution_count": 2,
   "id": "f1456690",
   "metadata": {},
   "outputs": [
    {
     "data": {
      "application/vnd.microsoft.datawrangler.viewer.v0+json": {
       "columns": [
        {
         "name": "index",
         "rawType": "int64",
         "type": "integer"
        },
        {
         "name": "engine_displacement",
         "rawType": "int64",
         "type": "integer"
        },
        {
         "name": "num_cylinders",
         "rawType": "float64",
         "type": "float"
        },
        {
         "name": "horsepower",
         "rawType": "float64",
         "type": "float"
        },
        {
         "name": "vehicle_weight",
         "rawType": "float64",
         "type": "float"
        },
        {
         "name": "acceleration",
         "rawType": "float64",
         "type": "float"
        },
        {
         "name": "model_year",
         "rawType": "int64",
         "type": "integer"
        },
        {
         "name": "origin",
         "rawType": "object",
         "type": "string"
        },
        {
         "name": "fuel_type",
         "rawType": "object",
         "type": "string"
        },
        {
         "name": "drivetrain",
         "rawType": "object",
         "type": "string"
        },
        {
         "name": "num_doors",
         "rawType": "float64",
         "type": "float"
        },
        {
         "name": "fuel_efficiency_mpg",
         "rawType": "float64",
         "type": "float"
        }
       ],
       "ref": "448950f8-842c-445a-9a28-13393096cabd",
       "rows": [
        [
         "0",
         "170",
         "3.0",
         "159.0",
         "3413.433758606219",
         "17.7",
         "2003",
         "Europe",
         "Gasoline",
         "All-wheel drive",
         "0.0",
         "13.231728906241411"
        ],
        [
         "1",
         "130",
         "5.0",
         "97.0",
         "3149.664934220036",
         "17.8",
         "2007",
         "USA",
         "Gasoline",
         "Front-wheel drive",
         "0.0",
         "13.688217435463793"
        ],
        [
         "2",
         "170",
         null,
         "78.0",
         "3079.03899736884",
         "15.1",
         "2018",
         "Europe",
         "Gasoline",
         "Front-wheel drive",
         "0.0",
         "14.246340998160866"
        ],
        [
         "3",
         "220",
         "4.0",
         null,
         "2542.392401828378",
         "20.2",
         "2009",
         "USA",
         "Diesel",
         "All-wheel drive",
         "2.0",
         "16.91273559598635"
        ],
        [
         "4",
         "210",
         "1.0",
         "140.0",
         "3460.870989989018",
         "14.4",
         "2009",
         "Europe",
         "Gasoline",
         "All-wheel drive",
         "2.0",
         "12.488369121964562"
        ],
        [
         "5",
         "190",
         "3.0",
         null,
         "2484.883986036068",
         "14.7",
         "2008",
         "Europe",
         "Gasoline",
         "All-wheel drive",
         "-1.0",
         "17.271818372724237"
        ],
        [
         "6",
         "240",
         "7.0",
         "127.0",
         "3006.5422872171457",
         "22.2",
         "2012",
         "USA",
         "Gasoline",
         "Front-wheel drive",
         "1.0",
         "13.210412112385608"
        ],
        [
         "7",
         "150",
         "4.0",
         "239.0",
         "3638.6577802809",
         "17.3",
         "2020",
         "USA",
         "Diesel",
         "All-wheel drive",
         "1.0",
         "12.848883861524026"
        ],
        [
         "8",
         "250",
         "1.0",
         "174.0",
         "2714.219309645285",
         "10.3",
         "2016",
         "Asia",
         "Diesel",
         "Front-wheel drive",
         "-1.0",
         "16.823553726916543"
        ],
        [
         "9",
         "150",
         "4.0",
         "123.0",
         "3509.036569100613",
         "10.2",
         "2005",
         "USA",
         "Gasoline",
         "Front-wheel drive",
         "-1.0",
         "12.298354983681604"
        ],
        [
         "10",
         "230",
         "5.0",
         "100.0",
         "3111.810181389172",
         "15.4",
         "2014",
         "Europe",
         "Diesel",
         "All-wheel drive",
         "0.0",
         "13.386605047290962"
        ],
        [
         "11",
         "150",
         "5.0",
         null,
         "1967.2004212521003",
         "12.6",
         "2014",
         "USA",
         "Diesel",
         "Front-wheel drive",
         "2.0",
         "20.50444671989053"
        ],
        [
         "12",
         "320",
         "5.0",
         "145.0",
         "2783.8689742437728",
         "15.1",
         "2010",
         "Asia",
         "Diesel",
         "All-wheel drive",
         "1.0",
         "16.17581958009284"
        ],
        [
         "13",
         "170",
         "1.0",
         "193.0",
         "2274.7351905647565",
         "17.5",
         "2000",
         "Europe",
         "Diesel",
         "Front-wheel drive",
         "0.0",
         "18.792742345719034"
        ],
        [
         "14",
         "200",
         "6.0",
         "160.0",
         "3582.687367715132",
         "14.9",
         "2007",
         "Asia",
         "Diesel",
         "All-wheel drive",
         "0.0",
         "11.871091010445811"
        ],
        [
         "15",
         "220",
         "4.0",
         "179.0",
         "2631.0652035914763",
         "16.0",
         "2006",
         "USA",
         "Gasoline",
         "All-wheel drive",
         "1.0",
         "16.756081170464494"
        ],
        [
         "16",
         "160",
         "3.0",
         "180.0",
         "2673.5529409560954",
         "8.5",
         "2013",
         "Europe",
         "Diesel",
         "All-wheel drive",
         "-1.0",
         "17.516175727210882"
        ],
        [
         "17",
         "190",
         "6.0",
         "132.0",
         "2427.3118562098525",
         "17.8",
         "2011",
         "USA",
         "Diesel",
         "Front-wheel drive",
         "-1.0",
         "17.65868533963579"
        ],
        [
         "18",
         "250",
         "2.0",
         "110.0",
         "2971.2145745989487",
         null,
         "2003",
         "Europe",
         "Gasoline",
         "Front-wheel drive",
         "1.0",
         "14.735962194497768"
        ],
        [
         "19",
         "180",
         "1.0",
         "126.0",
         "2986.958657420011",
         "17.9",
         "2004",
         "Europe",
         "Gasoline",
         "All-wheel drive",
         "-1.0",
         "15.097137105104313"
        ],
        [
         "20",
         "150",
         "3.0",
         "197.0",
         "2231.8081416029345",
         "18.7",
         "2011",
         "Asia",
         "Gasoline",
         "Front-wheel drive",
         "1.0",
         "18.88908257097108"
        ],
        [
         "21",
         "160",
         "4.0",
         "133.0",
         "2659.431450757995",
         null,
         "2016",
         "Asia",
         "Gasoline",
         "Front-wheel drive",
         "-1.0",
         "16.077730214491176"
        ],
        [
         "22",
         "190",
         "1.0",
         "144.0",
         "2438.842125555246",
         "16.4",
         "2016",
         "Europe",
         "Diesel",
         "Front-wheel drive",
         "1.0",
         "17.08040493384839"
        ],
        [
         "23",
         "230",
         "2.0",
         "160.0",
         "3342.6060274901347",
         "12.9",
         "2009",
         "Europe",
         "Gasoline",
         "All-wheel drive",
         "0.0",
         "13.7383805846665"
        ],
        [
         "24",
         "260",
         "3.0",
         "156.0",
         "4267.390497388771",
         "20.0",
         "2004",
         "USA",
         "Diesel",
         "Front-wheel drive",
         "1.0",
         "7.853194329416397"
        ],
        [
         "25",
         "210",
         "6.0",
         "157.0",
         "2860.206191293806",
         "12.6",
         "2013",
         "USA",
         "Gasoline",
         "All-wheel drive",
         null,
         "15.906421807842523"
        ],
        [
         "26",
         "180",
         "8.0",
         "160.0",
         "3080.170161717871",
         "10.6",
         "2002",
         "USA",
         "Diesel",
         "All-wheel drive",
         "2.0",
         "15.089880004688071"
        ],
        [
         "27",
         "120",
         "6.0",
         "206.0",
         "3467.355490131792",
         "18.3",
         "2016",
         "USA",
         "Gasoline",
         "Front-wheel drive",
         "-1.0",
         "13.04899290040456"
        ],
        [
         "28",
         "220",
         "4.0",
         "154.0",
         "3335.0681874881448",
         "14.8",
         "2005",
         "USA",
         "Diesel",
         "All-wheel drive",
         "-1.0",
         "13.411265956371402"
        ],
        [
         "29",
         "230",
         "4.0",
         "132.0",
         "2479.7829741497544",
         "15.6",
         "2014",
         "Europe",
         "Diesel",
         "All-wheel drive",
         "0.0",
         "17.34901126810939"
        ],
        [
         "30",
         "280",
         "5.0",
         "140.0",
         "2598.598215530185",
         "17.1",
         "2022",
         "USA",
         "Gasoline",
         "Front-wheel drive",
         "0.0",
         "16.852517863788954"
        ],
        [
         "31",
         "160",
         "4.0",
         "153.0",
         "3106.306111675653",
         "15.8",
         "2000",
         "Europe",
         "Gasoline",
         "All-wheel drive",
         "-1.0",
         "14.04564452468013"
        ],
        [
         "32",
         "40",
         "5.0",
         "136.0",
         "3619.370730176663",
         "19.5",
         "2017",
         "Europe",
         "Gasoline",
         "All-wheel drive",
         "-1.0",
         "11.02937073424243"
        ],
        [
         "33",
         "200",
         "4.0",
         "168.0",
         "2946.9791685788814",
         "18.6",
         "2001",
         "USA",
         "Diesel",
         "Front-wheel drive",
         "0.0",
         "15.76758556294088"
        ],
        [
         "34",
         "150",
         "2.0",
         "149.0",
         "2844.2275338857653",
         "17.3",
         "2014",
         "Asia",
         "Diesel",
         "Front-wheel drive",
         "0.0",
         "15.353788201522017"
        ],
        [
         "35",
         "160",
         "3.0",
         "127.0",
         "2961.158679125447",
         "14.8",
         "2004",
         "USA",
         "Gasoline",
         "Front-wheel drive",
         "0.0",
         "14.671771671571785"
        ],
        [
         "36",
         "200",
         "5.0",
         "143.0",
         "3040.2365213942894",
         "14.2",
         "2006",
         "USA",
         "Diesel",
         "All-wheel drive",
         "-1.0",
         "15.01132504011616"
        ],
        [
         "37",
         "80",
         "3.0",
         "132.0",
         "3444.8921095893515",
         "17.2",
         "2023",
         "Europe",
         "Gasoline",
         "Front-wheel drive",
         "-1.0",
         "11.704658142342613"
        ],
        [
         "38",
         "190",
         "5.0",
         "158.0",
         "3761.9940381922206",
         null,
         "2019",
         "Asia",
         "Gasoline",
         "Front-wheel drive",
         "1.0",
         "11.645724047561528"
        ],
        [
         "39",
         "240",
         "6.0",
         "176.0",
         "2676.886843633655",
         "14.5",
         "2002",
         "Europe",
         "Gasoline",
         "Front-wheel drive",
         "-1.0",
         "17.322851581349216"
        ],
        [
         "40",
         "110",
         "1.0",
         "108.0",
         "2292.675257052191",
         "14.5",
         "2015",
         "Europe",
         "Gasoline",
         "Front-wheel drive",
         "0.0",
         "18.63000885913826"
        ],
        [
         "41",
         "230",
         "2.0",
         "125.0",
         "2563.9027023821623",
         "18.1",
         "2008",
         "Europe",
         "Gasoline",
         "All-wheel drive",
         "0.0",
         "16.890273538222665"
        ],
        [
         "42",
         "240",
         "4.0",
         "123.0",
         "2612.0154112627533",
         "10.5",
         "2013",
         "USA",
         "Diesel",
         "Front-wheel drive",
         "-1.0",
         "16.416020840488873"
        ],
        [
         "43",
         "170",
         "4.0",
         "123.0",
         "2957.6811098887447",
         "14.4",
         "2012",
         "Asia",
         "Diesel",
         "All-wheel drive",
         "-1.0",
         "15.039796931634644"
        ],
        [
         "44",
         "240",
         "2.0",
         "142.0",
         "2544.516801769428",
         "12.9",
         "2016",
         "Asia",
         "Gasoline",
         "All-wheel drive",
         "0.0",
         "17.600327865900464"
        ],
        [
         "45",
         "380",
         null,
         "139.0",
         "1833.1964030710933",
         "16.7",
         "2022",
         "USA",
         "Gasoline",
         "Front-wheel drive",
         "-1.0",
         "20.728616942029674"
        ],
        [
         "46",
         "190",
         "4.0",
         "170.0",
         "2607.6950038058926",
         "20.8",
         "2019",
         "USA",
         "Diesel",
         "Front-wheel drive",
         "1.0",
         "15.932777017483826"
        ],
        [
         "47",
         "270",
         "1.0",
         "135.0",
         "3858.9146336751146",
         null,
         "2006",
         "Europe",
         "Gasoline",
         "Front-wheel drive",
         "2.0",
         "10.0898180828745"
        ],
        [
         "48",
         "190",
         "5.0",
         "202.0",
         "2531.185247040718",
         "16.2",
         "2016",
         "Asia",
         "Gasoline",
         "All-wheel drive",
         "0.0",
         "17.983505227568678"
        ],
        [
         "49",
         "140",
         "7.0",
         "99.0",
         "3602.664482911108",
         "17.0",
         "2015",
         "Europe",
         "Gasoline",
         "All-wheel drive",
         "1.0",
         "11.25726765887053"
        ]
       ],
       "shape": {
        "columns": 11,
        "rows": 9704
       }
      },
      "text/html": [
       "<div>\n",
       "<style scoped>\n",
       "    .dataframe tbody tr th:only-of-type {\n",
       "        vertical-align: middle;\n",
       "    }\n",
       "\n",
       "    .dataframe tbody tr th {\n",
       "        vertical-align: top;\n",
       "    }\n",
       "\n",
       "    .dataframe thead th {\n",
       "        text-align: right;\n",
       "    }\n",
       "</style>\n",
       "<table border=\"1\" class=\"dataframe\">\n",
       "  <thead>\n",
       "    <tr style=\"text-align: right;\">\n",
       "      <th></th>\n",
       "      <th>engine_displacement</th>\n",
       "      <th>num_cylinders</th>\n",
       "      <th>horsepower</th>\n",
       "      <th>vehicle_weight</th>\n",
       "      <th>acceleration</th>\n",
       "      <th>model_year</th>\n",
       "      <th>origin</th>\n",
       "      <th>fuel_type</th>\n",
       "      <th>drivetrain</th>\n",
       "      <th>num_doors</th>\n",
       "      <th>fuel_efficiency_mpg</th>\n",
       "    </tr>\n",
       "  </thead>\n",
       "  <tbody>\n",
       "    <tr>\n",
       "      <th>0</th>\n",
       "      <td>170</td>\n",
       "      <td>3.0</td>\n",
       "      <td>159.0</td>\n",
       "      <td>3413.433759</td>\n",
       "      <td>17.7</td>\n",
       "      <td>2003</td>\n",
       "      <td>Europe</td>\n",
       "      <td>Gasoline</td>\n",
       "      <td>All-wheel drive</td>\n",
       "      <td>0.0</td>\n",
       "      <td>13.231729</td>\n",
       "    </tr>\n",
       "    <tr>\n",
       "      <th>1</th>\n",
       "      <td>130</td>\n",
       "      <td>5.0</td>\n",
       "      <td>97.0</td>\n",
       "      <td>3149.664934</td>\n",
       "      <td>17.8</td>\n",
       "      <td>2007</td>\n",
       "      <td>USA</td>\n",
       "      <td>Gasoline</td>\n",
       "      <td>Front-wheel drive</td>\n",
       "      <td>0.0</td>\n",
       "      <td>13.688217</td>\n",
       "    </tr>\n",
       "    <tr>\n",
       "      <th>2</th>\n",
       "      <td>170</td>\n",
       "      <td>NaN</td>\n",
       "      <td>78.0</td>\n",
       "      <td>3079.038997</td>\n",
       "      <td>15.1</td>\n",
       "      <td>2018</td>\n",
       "      <td>Europe</td>\n",
       "      <td>Gasoline</td>\n",
       "      <td>Front-wheel drive</td>\n",
       "      <td>0.0</td>\n",
       "      <td>14.246341</td>\n",
       "    </tr>\n",
       "    <tr>\n",
       "      <th>3</th>\n",
       "      <td>220</td>\n",
       "      <td>4.0</td>\n",
       "      <td>NaN</td>\n",
       "      <td>2542.392402</td>\n",
       "      <td>20.2</td>\n",
       "      <td>2009</td>\n",
       "      <td>USA</td>\n",
       "      <td>Diesel</td>\n",
       "      <td>All-wheel drive</td>\n",
       "      <td>2.0</td>\n",
       "      <td>16.912736</td>\n",
       "    </tr>\n",
       "    <tr>\n",
       "      <th>4</th>\n",
       "      <td>210</td>\n",
       "      <td>1.0</td>\n",
       "      <td>140.0</td>\n",
       "      <td>3460.870990</td>\n",
       "      <td>14.4</td>\n",
       "      <td>2009</td>\n",
       "      <td>Europe</td>\n",
       "      <td>Gasoline</td>\n",
       "      <td>All-wheel drive</td>\n",
       "      <td>2.0</td>\n",
       "      <td>12.488369</td>\n",
       "    </tr>\n",
       "    <tr>\n",
       "      <th>...</th>\n",
       "      <td>...</td>\n",
       "      <td>...</td>\n",
       "      <td>...</td>\n",
       "      <td>...</td>\n",
       "      <td>...</td>\n",
       "      <td>...</td>\n",
       "      <td>...</td>\n",
       "      <td>...</td>\n",
       "      <td>...</td>\n",
       "      <td>...</td>\n",
       "      <td>...</td>\n",
       "    </tr>\n",
       "    <tr>\n",
       "      <th>9699</th>\n",
       "      <td>140</td>\n",
       "      <td>5.0</td>\n",
       "      <td>164.0</td>\n",
       "      <td>2981.107371</td>\n",
       "      <td>17.3</td>\n",
       "      <td>2013</td>\n",
       "      <td>Europe</td>\n",
       "      <td>Diesel</td>\n",
       "      <td>Front-wheel drive</td>\n",
       "      <td>NaN</td>\n",
       "      <td>15.101802</td>\n",
       "    </tr>\n",
       "    <tr>\n",
       "      <th>9700</th>\n",
       "      <td>180</td>\n",
       "      <td>NaN</td>\n",
       "      <td>154.0</td>\n",
       "      <td>2439.525729</td>\n",
       "      <td>15.0</td>\n",
       "      <td>2004</td>\n",
       "      <td>USA</td>\n",
       "      <td>Gasoline</td>\n",
       "      <td>All-wheel drive</td>\n",
       "      <td>0.0</td>\n",
       "      <td>17.962326</td>\n",
       "    </tr>\n",
       "    <tr>\n",
       "      <th>9701</th>\n",
       "      <td>220</td>\n",
       "      <td>2.0</td>\n",
       "      <td>138.0</td>\n",
       "      <td>2583.471318</td>\n",
       "      <td>15.1</td>\n",
       "      <td>2008</td>\n",
       "      <td>USA</td>\n",
       "      <td>Diesel</td>\n",
       "      <td>All-wheel drive</td>\n",
       "      <td>-1.0</td>\n",
       "      <td>17.186587</td>\n",
       "    </tr>\n",
       "    <tr>\n",
       "      <th>9702</th>\n",
       "      <td>230</td>\n",
       "      <td>4.0</td>\n",
       "      <td>177.0</td>\n",
       "      <td>2905.527390</td>\n",
       "      <td>19.4</td>\n",
       "      <td>2011</td>\n",
       "      <td>USA</td>\n",
       "      <td>Diesel</td>\n",
       "      <td>Front-wheel drive</td>\n",
       "      <td>1.0</td>\n",
       "      <td>15.331551</td>\n",
       "    </tr>\n",
       "    <tr>\n",
       "      <th>9703</th>\n",
       "      <td>270</td>\n",
       "      <td>3.0</td>\n",
       "      <td>140.0</td>\n",
       "      <td>2908.043477</td>\n",
       "      <td>14.7</td>\n",
       "      <td>2005</td>\n",
       "      <td>Asia</td>\n",
       "      <td>Diesel</td>\n",
       "      <td>All-wheel drive</td>\n",
       "      <td>-1.0</td>\n",
       "      <td>14.884467</td>\n",
       "    </tr>\n",
       "  </tbody>\n",
       "</table>\n",
       "<p>9704 rows × 11 columns</p>\n",
       "</div>"
      ],
      "text/plain": [
       "      engine_displacement  num_cylinders  horsepower  vehicle_weight  \\\n",
       "0                     170            3.0       159.0     3413.433759   \n",
       "1                     130            5.0        97.0     3149.664934   \n",
       "2                     170            NaN        78.0     3079.038997   \n",
       "3                     220            4.0         NaN     2542.392402   \n",
       "4                     210            1.0       140.0     3460.870990   \n",
       "...                   ...            ...         ...             ...   \n",
       "9699                  140            5.0       164.0     2981.107371   \n",
       "9700                  180            NaN       154.0     2439.525729   \n",
       "9701                  220            2.0       138.0     2583.471318   \n",
       "9702                  230            4.0       177.0     2905.527390   \n",
       "9703                  270            3.0       140.0     2908.043477   \n",
       "\n",
       "      acceleration  model_year  origin fuel_type         drivetrain  \\\n",
       "0             17.7        2003  Europe  Gasoline    All-wheel drive   \n",
       "1             17.8        2007     USA  Gasoline  Front-wheel drive   \n",
       "2             15.1        2018  Europe  Gasoline  Front-wheel drive   \n",
       "3             20.2        2009     USA    Diesel    All-wheel drive   \n",
       "4             14.4        2009  Europe  Gasoline    All-wheel drive   \n",
       "...            ...         ...     ...       ...                ...   \n",
       "9699          17.3        2013  Europe    Diesel  Front-wheel drive   \n",
       "9700          15.0        2004     USA  Gasoline    All-wheel drive   \n",
       "9701          15.1        2008     USA    Diesel    All-wheel drive   \n",
       "9702          19.4        2011     USA    Diesel  Front-wheel drive   \n",
       "9703          14.7        2005    Asia    Diesel    All-wheel drive   \n",
       "\n",
       "      num_doors  fuel_efficiency_mpg  \n",
       "0           0.0            13.231729  \n",
       "1           0.0            13.688217  \n",
       "2           0.0            14.246341  \n",
       "3           2.0            16.912736  \n",
       "4           2.0            12.488369  \n",
       "...         ...                  ...  \n",
       "9699        NaN            15.101802  \n",
       "9700        0.0            17.962326  \n",
       "9701       -1.0            17.186587  \n",
       "9702        1.0            15.331551  \n",
       "9703       -1.0            14.884467  \n",
       "\n",
       "[9704 rows x 11 columns]"
      ]
     },
     "execution_count": 2,
     "metadata": {},
     "output_type": "execute_result"
    }
   ],
   "source": [
    "df=pd.read_csv(r\"C:\\python projects\\ML_Zoomcamp\\Daniel-ML-Zoomcamp\\Module 2\\car_fuel_efficiency.csv\")\n",
    "df"
   ]
  },
  {
   "cell_type": "code",
   "execution_count": 3,
   "id": "b0a3c2f5",
   "metadata": {},
   "outputs": [
    {
     "data": {
      "text/plain": [
       "<Axes: xlabel='fuel_efficiency_mpg', ylabel='Count'>"
      ]
     },
     "execution_count": 3,
     "metadata": {},
     "output_type": "execute_result"
    },
    {
     "data": {
      "image/png": "[encoded data removed]",
      "text/plain": [
       "<Figure size 640x480 with 1 Axes>"
      ]
     },
     "metadata": {},
     "output_type": "display_data"
    }
   ],
   "source": [
    "sns.histplot(df.fuel_efficiency_mpg)"
   ]
  },
  {
   "cell_type": "markdown",
   "id": "1013f58c",
   "metadata": {},
   "source": [
    "# Question 1 "
   ]
  },
  {
   "cell_type": "markdown",
   "id": "bbf6c728",
   "metadata": {},
   "source": [
    "\n",
    "There's one column with missing values. What is it?"
   ]
  },
  {
   "cell_type": "code",
   "execution_count": 4,
   "id": "106c1e83",
   "metadata": {},
   "outputs": [
    {
     "data": {
      "application/vnd.microsoft.datawrangler.viewer.v0+json": {
       "columns": [
        {
         "name": "index",
         "rawType": "object",
         "type": "string"
        },
        {
         "name": "0",
         "rawType": "int64",
         "type": "integer"
        }
       ],
       "ref": "08fa5a1c-b0f1-4b7e-b010-9d5c7e4c81a5",
       "rows": [
        [
         "engine_displacement",
         "0"
        ],
        [
         "num_cylinders",
         "482"
        ],
        [
         "horsepower",
         "708"
        ],
        [
         "vehicle_weight",
         "0"
        ],
        [
         "acceleration",
         "930"
        ],
        [
         "model_year",
         "0"
        ],
        [
         "origin",
         "0"
        ],
        [
         "fuel_type",
         "0"
        ],
        [
         "drivetrain",
         "0"
        ],
        [
         "num_doors",
         "502"
        ],
        [
         "fuel_efficiency_mpg",
         "0"
        ]
       ],
       "shape": {
        "columns": 1,
        "rows": 11
       }
      },
      "text/plain": [
       "engine_displacement      0\n",
       "num_cylinders          482\n",
       "horsepower             708\n",
       "vehicle_weight           0\n",
       "acceleration           930\n",
       "model_year               0\n",
       "origin                   0\n",
       "fuel_type                0\n",
       "drivetrain               0\n",
       "num_doors              502\n",
       "fuel_efficiency_mpg      0\n",
       "dtype: int64"
      ]
     },
     "execution_count": 4,
     "metadata": {},
     "output_type": "execute_result"
    }
   ],
   "source": [
    "df.isnull().sum() #horsepower"
   ]
  },
  {
   "cell_type": "markdown",
   "id": "b3f49950",
   "metadata": {},
   "source": [
    "# Question 2"
   ]
  },
  {
   "cell_type": "markdown",
   "id": "fd507610",
   "metadata": {},
   "source": [
    "What's the median (50% percentile) for variable 'horsepower'?"
   ]
  },
  {
   "cell_type": "code",
   "execution_count": 5,
   "id": "fa03615d",
   "metadata": {},
   "outputs": [
    {
     "data": {
      "text/plain": [
       "np.float64(149.0)"
      ]
     },
     "execution_count": 5,
     "metadata": {},
     "output_type": "execute_result"
    }
   ],
   "source": [
    "df.horsepower.median() #149"
   ]
  },
  {
   "cell_type": "code",
   "execution_count": 6,
   "id": "a403c706",
   "metadata": {},
   "outputs": [
    {
     "name": "stdout",
     "output_type": "stream",
     "text": [
      "9704 5824 1940 1940\n",
      "9704\n"
     ]
    }
   ],
   "source": [
    "# To create our validation framework, we will split the data into three parts: training, validation, and test.\n",
    "# wee will use 60% of the data for training, 20% for validation, and 20% for testing.\n",
    "\n",
    "# Setting up the validation framework\n",
    "n = len(df)\n",
    "n_val = int(n * 0.2)\n",
    "n_test = int(n * 0.2)\n",
    "n_train = n - n_val - n_test\n",
    "\n",
    "print(n, n_train, n_val, n_test)\n",
    "print(n_train + n_val + n_test)"
   ]
  },
  {
   "cell_type": "code",
   "execution_count": 7,
   "id": "3621f3f8",
   "metadata": {},
   "outputs": [
    {
     "data": {
      "text/plain": [
       "array([ 483, 7506, 8795, ..., 5390,  860, 7270], shape=(9704,))"
      ]
     },
     "execution_count": 7,
     "metadata": {},
     "output_type": "execute_result"
    }
   ],
   "source": [
    "np.random.seed(42)\n",
    "idx = np.arange(n)\n",
    "\n",
    "np.random.shuffle(idx)\n",
    "idx\n"
   ]
  },
  {
   "cell_type": "code",
   "execution_count": 8,
   "id": "dbbe3c56",
   "metadata": {},
   "outputs": [
    {
     "name": "stdout",
     "output_type": "stream",
     "text": [
      "5824 1940 1940\n"
     ]
    },
    {
     "data": {
      "text/plain": [
       "9704"
      ]
     },
     "execution_count": 8,
     "metadata": {},
     "output_type": "execute_result"
    }
   ],
   "source": [
    "df_train = df.iloc[idx[:n_train]]\n",
    "df_test = df.iloc[idx[n_train:n_train+n_test]]\n",
    "df_val = df.iloc[idx[n_train+n_test:]]\n",
    "\n",
    "print(len(df_train), len(df_val), len(df_test))\n",
    "len(df_train) + len(df_val) + len(df_test)"
   ]
  },
  {
   "cell_type": "code",
   "execution_count": 9,
   "id": "77d0acbf",
   "metadata": {},
   "outputs": [
    {
     "data": {
      "application/vnd.microsoft.datawrangler.viewer.v0+json": {
       "columns": [
        {
         "name": "index",
         "rawType": "int64",
         "type": "integer"
        },
        {
         "name": "engine_displacement",
         "rawType": "int64",
         "type": "integer"
        },
        {
         "name": "num_cylinders",
         "rawType": "float64",
         "type": "float"
        },
        {
         "name": "horsepower",
         "rawType": "float64",
         "type": "float"
        },
        {
         "name": "vehicle_weight",
         "rawType": "float64",
         "type": "float"
        },
        {
         "name": "acceleration",
         "rawType": "float64",
         "type": "float"
        },
        {
         "name": "model_year",
         "rawType": "int64",
         "type": "integer"
        },
        {
         "name": "origin",
         "rawType": "object",
         "type": "string"
        },
        {
         "name": "fuel_type",
         "rawType": "object",
         "type": "string"
        },
        {
         "name": "drivetrain",
         "rawType": "object",
         "type": "string"
        },
        {
         "name": "num_doors",
         "rawType": "float64",
         "type": "float"
        },
        {
         "name": "fuel_efficiency_mpg",
         "rawType": "float64",
         "type": "float"
        }
       ],
       "ref": "05e695fd-a6d2-4be2-883b-d95e283a80f8",
       "rows": [
        [
         "0",
         "170",
         "3.0",
         "159.0",
         "3413.433758606219",
         "17.7",
         "2003",
         "Europe",
         "Gasoline",
         "All-wheel drive",
         "0.0",
         "13.231728906241411"
        ],
        [
         "1",
         "130",
         "5.0",
         "97.0",
         "3149.664934220036",
         "17.8",
         "2007",
         "USA",
         "Gasoline",
         "Front-wheel drive",
         "0.0",
         "13.688217435463793"
        ],
        [
         "2",
         "170",
         null,
         "78.0",
         "3079.03899736884",
         "15.1",
         "2018",
         "Europe",
         "Gasoline",
         "Front-wheel drive",
         "0.0",
         "14.246340998160866"
        ],
        [
         "3",
         "220",
         "4.0",
         null,
         "2542.392401828378",
         "20.2",
         "2009",
         "USA",
         "Diesel",
         "All-wheel drive",
         "2.0",
         "16.91273559598635"
        ],
        [
         "4",
         "210",
         "1.0",
         "140.0",
         "3460.870989989018",
         "14.4",
         "2009",
         "Europe",
         "Gasoline",
         "All-wheel drive",
         "2.0",
         "12.488369121964562"
        ]
       ],
       "shape": {
        "columns": 11,
        "rows": 5
       }
      },
      "text/html": [
       "<div>\n",
       "<style scoped>\n",
       "    .dataframe tbody tr th:only-of-type {\n",
       "        vertical-align: middle;\n",
       "    }\n",
       "\n",
       "    .dataframe tbody tr th {\n",
       "        vertical-align: top;\n",
       "    }\n",
       "\n",
       "    .dataframe thead th {\n",
       "        text-align: right;\n",
       "    }\n",
       "</style>\n",
       "<table border=\"1\" class=\"dataframe\">\n",
       "  <thead>\n",
       "    <tr style=\"text-align: right;\">\n",
       "      <th></th>\n",
       "      <th>engine_displacement</th>\n",
       "      <th>num_cylinders</th>\n",
       "      <th>horsepower</th>\n",
       "      <th>vehicle_weight</th>\n",
       "      <th>acceleration</th>\n",
       "      <th>model_year</th>\n",
       "      <th>origin</th>\n",
       "      <th>fuel_type</th>\n",
       "      <th>drivetrain</th>\n",
       "      <th>num_doors</th>\n",
       "      <th>fuel_efficiency_mpg</th>\n",
       "    </tr>\n",
       "  </thead>\n",
       "  <tbody>\n",
       "    <tr>\n",
       "      <th>0</th>\n",
       "      <td>170</td>\n",
       "      <td>3.0</td>\n",
       "      <td>159.0</td>\n",
       "      <td>3413.433759</td>\n",
       "      <td>17.7</td>\n",
       "      <td>2003</td>\n",
       "      <td>Europe</td>\n",
       "      <td>Gasoline</td>\n",
       "      <td>All-wheel drive</td>\n",
       "      <td>0.0</td>\n",
       "      <td>13.231729</td>\n",
       "    </tr>\n",
       "    <tr>\n",
       "      <th>1</th>\n",
       "      <td>130</td>\n",
       "      <td>5.0</td>\n",
       "      <td>97.0</td>\n",
       "      <td>3149.664934</td>\n",
       "      <td>17.8</td>\n",
       "      <td>2007</td>\n",
       "      <td>USA</td>\n",
       "      <td>Gasoline</td>\n",
       "      <td>Front-wheel drive</td>\n",
       "      <td>0.0</td>\n",
       "      <td>13.688217</td>\n",
       "    </tr>\n",
       "    <tr>\n",
       "      <th>2</th>\n",
       "      <td>170</td>\n",
       "      <td>NaN</td>\n",
       "      <td>78.0</td>\n",
       "      <td>3079.038997</td>\n",
       "      <td>15.1</td>\n",
       "      <td>2018</td>\n",
       "      <td>Europe</td>\n",
       "      <td>Gasoline</td>\n",
       "      <td>Front-wheel drive</td>\n",
       "      <td>0.0</td>\n",
       "      <td>14.246341</td>\n",
       "    </tr>\n",
       "    <tr>\n",
       "      <th>3</th>\n",
       "      <td>220</td>\n",
       "      <td>4.0</td>\n",
       "      <td>NaN</td>\n",
       "      <td>2542.392402</td>\n",
       "      <td>20.2</td>\n",
       "      <td>2009</td>\n",
       "      <td>USA</td>\n",
       "      <td>Diesel</td>\n",
       "      <td>All-wheel drive</td>\n",
       "      <td>2.0</td>\n",
       "      <td>16.912736</td>\n",
       "    </tr>\n",
       "    <tr>\n",
       "      <th>4</th>\n",
       "      <td>210</td>\n",
       "      <td>1.0</td>\n",
       "      <td>140.0</td>\n",
       "      <td>3460.870990</td>\n",
       "      <td>14.4</td>\n",
       "      <td>2009</td>\n",
       "      <td>Europe</td>\n",
       "      <td>Gasoline</td>\n",
       "      <td>All-wheel drive</td>\n",
       "      <td>2.0</td>\n",
       "      <td>12.488369</td>\n",
       "    </tr>\n",
       "  </tbody>\n",
       "</table>\n",
       "</div>"
      ],
      "text/plain": [
       "   engine_displacement  num_cylinders  horsepower  vehicle_weight  \\\n",
       "0                  170            3.0       159.0     3413.433759   \n",
       "1                  130            5.0        97.0     3149.664934   \n",
       "2                  170            NaN        78.0     3079.038997   \n",
       "3                  220            4.0         NaN     2542.392402   \n",
       "4                  210            1.0       140.0     3460.870990   \n",
       "\n",
       "   acceleration  model_year  origin fuel_type         drivetrain  num_doors  \\\n",
       "0          17.7        2003  Europe  Gasoline    All-wheel drive        0.0   \n",
       "1          17.8        2007     USA  Gasoline  Front-wheel drive        0.0   \n",
       "2          15.1        2018  Europe  Gasoline  Front-wheel drive        0.0   \n",
       "3          20.2        2009     USA    Diesel    All-wheel drive        2.0   \n",
       "4          14.4        2009  Europe  Gasoline    All-wheel drive        2.0   \n",
       "\n",
       "   fuel_efficiency_mpg  \n",
       "0            13.231729  \n",
       "1            13.688217  \n",
       "2            14.246341  \n",
       "3            16.912736  \n",
       "4            12.488369  "
      ]
     },
     "execution_count": 9,
     "metadata": {},
     "output_type": "execute_result"
    }
   ],
   "source": [
    "df.head()"
   ]
  },
  {
   "cell_type": "markdown",
   "id": "31f8403b",
   "metadata": {},
   "source": [
    "# Mean approach"
   ]
  },
  {
   "cell_type": "code",
   "execution_count": 10,
   "id": "75181279",
   "metadata": {},
   "outputs": [],
   "source": [
    "df_train_mean = df_train.copy()\n",
    "df_test_mean = df_test.copy()\n",
    "df_val_mean = df_val.copy()"
   ]
  },
  {
   "cell_type": "code",
   "execution_count": 11,
   "id": "bac778d4",
   "metadata": {},
   "outputs": [
    {
     "name": "stdout",
     "output_type": "stream",
     "text": [
      "429\n"
     ]
    }
   ],
   "source": [
    "print(df_train_mean.horsepower.isnull().sum())\n"
   ]
  },
  {
   "cell_type": "markdown",
   "id": "a9422c82",
   "metadata": {},
   "source": [
    "Get the mean"
   ]
  },
  {
   "cell_type": "code",
   "execution_count": 12,
   "id": "dd41f609",
   "metadata": {},
   "outputs": [
    {
     "data": {
      "text/plain": [
       "np.float64(149.54476367006487)"
      ]
     },
     "execution_count": 12,
     "metadata": {},
     "output_type": "execute_result"
    }
   ],
   "source": [
    "training_mean = df_train_mean.horsepower.mean()\n",
    "training_mean"
   ]
  },
  {
   "cell_type": "markdown",
   "id": "846fc433",
   "metadata": {},
   "source": [
    "Fill the nans"
   ]
  },
  {
   "cell_type": "markdown",
   "id": "0b7c9c12",
   "metadata": {},
   "source": [
    "Get the model framework"
   ]
  },
  {
   "cell_type": "code",
   "execution_count": 13,
   "id": "4861ccce",
   "metadata": {},
   "outputs": [],
   "source": [
    "\n",
    "df_train_mean.loc[:, \"horsepower\"] = df_train_mean.loc[:, \"horsepower\"].fillna(training_mean)\n",
    "df_test_mean.loc[:, \"horsepower\"] = df_test_mean.loc[:, \"horsepower\"].fillna(training_mean)\n",
    "df_val_mean.loc[:, \"horsepower\"] = df_val_mean.loc[:, \"horsepower\"].fillna(training_mean)\n",
    "\n",
    "y_train_mean = df_train_mean.pop(\"fuel_efficiency_mpg\").values\n",
    "y_val_mean = df_val_mean.pop(\"fuel_efficiency_mpg\").values\n",
    "y_test_mean = df_test_mean.pop(\"fuel_efficiency_mpg\").values"
   ]
  },
  {
   "cell_type": "code",
   "execution_count": 14,
   "id": "9cc979c5",
   "metadata": {},
   "outputs": [],
   "source": [
    "def prepare_X(df):\n",
    "    df = df.copy()\n",
    "    base_cols = [\"engine_displacement\", \"horsepower\", \"vehicle_weight\", \"model_year\"]     \n",
    "    return df[base_cols].values"
   ]
  },
  {
   "cell_type": "code",
   "execution_count": 15,
   "id": "798a29a1",
   "metadata": {},
   "outputs": [],
   "source": [
    "def train_linear_regression(X, y):\n",
    "    X = np.column_stack([np.ones(X.shape[0]), X])\n",
    "    XTX = X.T.dot(X)\n",
    "    XTX_inv = np.linalg.inv(XTX)\n",
    "\n",
    "    w_full = XTX_inv.dot(X.T).dot(y)\n",
    "    return w_full[0], w_full[1:]\n",
    "\n",
    "def train_linear_regression_reg(X, y, r=0.001):\n",
    "\n",
    "    ones = np.ones(X.shape[0])\n",
    "    X1 = np.column_stack([ones, X]) \n",
    "\n",
    "\n",
    "    XTX = X1.T.dot(X1)\n",
    "    XTX = XTX + r * np.eye(XTX.shape[0]) \n",
    "    XTX_inv = np.linalg.inv(XTX)\n",
    "\n",
    "    w_full = XTX_inv.dot(X1.T).dot(y)\n",
    "    return w_full[0], w_full[1:]"
   ]
  },
  {
   "cell_type": "code",
   "execution_count": 16,
   "id": "8d94fa64",
   "metadata": {},
   "outputs": [],
   "source": [
    "def rmse_score(y, y_pred):\n",
    "    error = y-y_pred\n",
    "    se = error**2\n",
    "    mse = se.mean()\n",
    "    return mse**0.5\n"
   ]
  },
  {
   "cell_type": "code",
   "execution_count": 17,
   "id": "b7e6fb36",
   "metadata": {},
   "outputs": [],
   "source": [
    "def modeling_pipeline(\n",
    "        df_train,\n",
    "        y_train,\n",
    "        df_val,\n",
    "        y_val,\n",
    "        r=0.001,\n",
    "        reg=False\n",
    "    ):\n",
    "\n",
    "    X_train = prepare_X(df_train)\n",
    "    X_val = prepare_X(df_val)\n",
    "\n",
    "    if reg:\n",
    "        w0, w = train_linear_regression_reg(X_train, y_train, r=r)\n",
    "    else:\n",
    "        w0, w = train_linear_regression(X_train, y_train)\n",
    "\n",
    "\n",
    "    y_pred_val = w0 + X_val.dot(w)\n",
    "    rmse_value = round(rmse_score(y_val, y_pred_val), 2)\n",
    "    \n",
    "    print(\"RMSE:\", rmse_value)\n",
    "    print(\"w0:\", w0)\n",
    "    print(\"length of w:\", w)\n",
    "    return rmse_value\n"
   ]
  },
  {
   "cell_type": "code",
   "execution_count": 18,
   "id": "ce150295",
   "metadata": {},
   "outputs": [
    {
     "name": "stdout",
     "output_type": "stream",
     "text": [
      "RMSE: 0.46\n",
      "w0: 28.92525995211667\n",
      "length of w: [ 0.00012093  0.01030308 -0.00501009 -0.00023463]\n"
     ]
    },
    {
     "data": {
      "text/plain": [
       "np.float64(0.46)"
      ]
     },
     "execution_count": 18,
     "metadata": {},
     "output_type": "execute_result"
    }
   ],
   "source": [
    "modeling_pipeline(\n",
    "    df_train_mean, y_train_mean, df_val_mean, y_val_mean, reg=False\n",
    ")"
   ]
  },
  {
   "cell_type": "markdown",
   "id": "bb9b678f",
   "metadata": {},
   "source": [
    "# Zero approach"
   ]
  },
  {
   "cell_type": "code",
   "execution_count": 19,
   "id": "1fff9b64",
   "metadata": {},
   "outputs": [],
   "source": [
    "\n",
    "df_train_zero = df_train.copy()\n",
    "df_test_zero = df_test.copy()\n",
    "df_val_zero = df_val.copy()"
   ]
  },
  {
   "cell_type": "code",
   "execution_count": 20,
   "id": "81d54e8b",
   "metadata": {},
   "outputs": [],
   "source": [
    "\n",
    "df_train_zero.loc[:, \"horsepower\"] = df_train_zero.loc[:, \"horsepower\"].fillna(0)\n",
    "df_test_zero.loc[:, \"horsepower\"] = df_test_zero.loc[:, \"horsepower\"].fillna(0)\n",
    "df_val_zero.loc[:, \"horsepower\"] = df_val_zero.loc[:, \"horsepower\"].fillna(0)\n",
    "\n",
    "\n",
    "y_train_zero = df_train_zero.pop(\"fuel_efficiency_mpg\").values\n",
    "y_val_zero = df_val_zero.pop(\"fuel_efficiency_mpg\").values\n",
    "y_test_zero = df_test_zero.pop(\"fuel_efficiency_mpg\").values"
   ]
  },
  {
   "cell_type": "code",
   "execution_count": 21,
   "id": "a01deef6",
   "metadata": {},
   "outputs": [
    {
     "name": "stdout",
     "output_type": "stream",
     "text": [
      "RMSE: 0.52\n",
      "w0: 28.827365474598718\n",
      "length of w: [ 9.93613218e-05  3.54221891e-03 -5.01328015e-03  3.42992869e-04]\n"
     ]
    },
    {
     "data": {
      "text/plain": [
       "np.float64(0.52)"
      ]
     },
     "execution_count": 21,
     "metadata": {},
     "output_type": "execute_result"
    }
   ],
   "source": [
    "modeling_pipeline(\n",
    "    df_train_zero, \n",
    "    y_train_zero, \n",
    "    df_val_zero, \n",
    "    y_val_zero, \n",
    "    reg=False\n",
    ")"
   ]
  },
  {
   "cell_type": "markdown",
   "id": "1069e264",
   "metadata": {},
   "source": [
    "Answer to Q3:\n",
    "\n",
    "The best model befor regularization is the one using the mean"
   ]
  },
  {
   "cell_type": "markdown",
   "id": "56e0e8cc",
   "metadata": {},
   "source": [
    "# Question 4"
   ]
  },
  {
   "cell_type": "markdown",
   "id": "2796a0c0",
   "metadata": {},
   "source": [
    "- Now let's train a regularized linear regression.\n",
    "- For this question, fill the NAs with 0.\n",
    "- Try different values of r from this list: [0, 0.01, 0.1, 1, 5, 10, 100].\n",
    "- Use RMSE to evaluate the model on the validation dataset.\n",
    "- Round the RMSE scores to 2 decimal digits.\n",
    "- Which r gives the best RMSE?\n",
    "- If multiple options give the same best RMSE, select the smallest r."
   ]
  },
  {
   "cell_type": "code",
   "execution_count": 22,
   "id": "cadb36be",
   "metadata": {},
   "outputs": [
    {
     "name": "stdout",
     "output_type": "stream",
     "text": [
      "r = 0\n",
      "RMSE: 0.52\n",
      "w0: 28.827365474598718\n",
      "length of w: [ 9.93613218e-05  3.54221891e-03 -5.01328015e-03  3.42992869e-04]\n",
      "r = 0.01\n",
      "RMSE: 0.52\n",
      "w0: 24.926838421084422\n",
      "length of w: [ 0.00010643  0.0035422  -0.00501248  0.00228024]\n",
      "r = 0.1\n",
      "RMSE: 0.52\n",
      "w0: 11.239661085047366\n",
      "length of w: [ 0.00013125  0.00354212 -0.00500966  0.00907815]\n",
      "r = 1\n",
      "RMSE: 0.52\n",
      "w0: 1.7315979412398264\n",
      "length of w: [ 0.00014849  0.00354207 -0.00500771  0.01380046]\n",
      "r = 5\n",
      "RMSE: 0.52\n",
      "w0: 0.36380750207153073\n",
      "length of w: [ 0.00015098  0.00354206 -0.00500743  0.01447979]\n",
      "r = 10\n",
      "RMSE: 0.52\n",
      "w0: 0.18306246622476907\n",
      "length of w: [ 0.0001513   0.00354206 -0.00500739  0.01456956]\n",
      "r = 100\n",
      "RMSE: 0.52\n",
      "w0: 0.01841801730804525\n",
      "length of w: [ 0.00015161  0.00354204 -0.00500736  0.01465133]\n"
     ]
    }
   ],
   "source": [
    "for i in [0, 0.01, 0.1, 1, 5, 10, 100]:\n",
    "    print(\"r =\", i)\n",
    "    modeling_pipeline(\n",
    "        df_train_zero, \n",
    "        y_train_zero, \n",
    "        df_val_zero, \n",
    "        y_val_zero, \n",
    "        r=i,\n",
    "        reg=True\n",
    "    )"
   ]
  },
  {
   "cell_type": "markdown",
   "id": "f233f528",
   "metadata": {},
   "source": [
    "Answer: Due the rounding I'm getting 0.52 on RSME on all the regularizations. So I'll pick 0 as R"
   ]
  },
  {
   "cell_type": "markdown",
   "id": "a118ecbd",
   "metadata": {},
   "source": [
    "# Question 5"
   ]
  },
  {
   "cell_type": "markdown",
   "id": "5e372e32",
   "metadata": {},
   "source": [
    "- We used seed 42 for splitting the data. Let's find out how selecting the seed influences our score.\n",
    "- Try different seed values: [0, 1, 2, 3, 4, 5, 6, 7, 8, 9].\n",
    "- For each seed, do the train/validation/test split with 60%/20%/20% distribution.\n",
    "- Fill the missing values with 0 and train a model without regularization.\n",
    "- For each seed, evaluate the model on the validation dataset and collect the RMSE scores.\n",
    "- What's the standard deviation of all the scores? To compute the standard deviation, use np.std.\n",
    "- Round the result to 3 decimal digits (round(std, 3))\n",
    "- What's the value of std?\n",
    "\n",
    "0.001\n",
    "0.006\n",
    "0.060\n",
    "0.600\n",
    "Note: Standard deviation shows how different the values are. If it's low, then all values are approximately the same. If it's high, the values are different. If standard deviation of scores is low, then our model is stable."
   ]
  },
  {
   "cell_type": "code",
   "execution_count": 23,
   "id": "7ed40db9",
   "metadata": {},
   "outputs": [
    {
     "name": "stdout",
     "output_type": "stream",
     "text": [
      "****************************************************************************************************\n",
      "Seed: 0\n",
      "5824 1940 1940\n",
      "RMSE: 0.52\n",
      "w0: 27.376388746129475\n",
      "length of w: [ 0.00018021  0.00369662 -0.00500077  0.00102818]\n",
      "****************************************************************************************************\n",
      "Seed: 1\n",
      "5824 1940 1940\n",
      "RMSE: 0.53\n",
      "w0: 29.022468555840756\n",
      "length of w: [ 9.11368124e-05  3.52555390e-03 -5.01868823e-03  2.57195231e-04]\n",
      "****************************************************************************************************\n",
      "Seed: 2\n",
      "5824 1940 1940\n",
      "RMSE: 0.51\n",
      "w0: 25.904357611918527\n",
      "length of w: [ 0.0001526   0.00378541 -0.00500641  0.00176812]\n",
      "****************************************************************************************************\n",
      "Seed: 3\n",
      "5824 1940 1940\n",
      "RMSE: 0.52\n",
      "w0: 28.015450068187377\n",
      "length of w: [ 0.0001811   0.0037275  -0.00500894  0.0007184 ]\n",
      "****************************************************************************************************\n",
      "Seed: 4\n",
      "5824 1940 1940\n",
      "RMSE: 0.53\n",
      "w0: 25.93400040714799\n",
      "length of w: [ 0.00019805  0.00351731 -0.00502054  0.00178834]\n",
      "****************************************************************************************************\n",
      "Seed: 5\n",
      "5824 1940 1940\n",
      "RMSE: 0.51\n",
      "w0: 25.89950696140074\n",
      "length of w: [-1.25174912e-05  3.81581131e-03 -5.02060073e-03  1.80614812e-03]\n",
      "****************************************************************************************************\n",
      "Seed: 6\n",
      "5824 1940 1940\n",
      "RMSE: 0.53\n",
      "w0: 25.91723093394924\n",
      "length of w: [ 5.89281469e-05  3.53575704e-03 -5.00987070e-03  1.79093559e-03]\n",
      "****************************************************************************************************\n",
      "Seed: 7\n",
      "5824 1940 1940\n",
      "RMSE: 0.51\n",
      "w0: 28.414324731359304\n",
      "length of w: [ 0.00012758  0.00332914 -0.0050143   0.00056398]\n",
      "****************************************************************************************************\n",
      "Seed: 8\n",
      "5824 1940 1940\n",
      "RMSE: 0.51\n",
      "w0: 26.47841782776404\n",
      "length of w: [ 0.00023176  0.00378573 -0.00501966  0.00149612]\n",
      "****************************************************************************************************\n",
      "Seed: 9\n",
      "5824 1940 1940\n",
      "RMSE: 0.52\n",
      "w0: 27.513852582351465\n",
      "length of w: [-7.49245681e-05  3.51310422e-03 -5.02056083e-03  1.02939922e-03]\n"
     ]
    }
   ],
   "source": [
    "rmse_values = []\n",
    "\n",
    "for seed in [0, 1, 2, 3, 4, 5, 6, 7, 8, 9]:\n",
    "    \n",
    "    print(\"*\"*100)\n",
    "    print(\"Seed:\", seed)\n",
    "\n",
    "    np.random.seed(seed)\n",
    "    idx = np.arange(n)\n",
    "    np.random.shuffle(idx)\n",
    "\n",
    "    df_train = df.iloc[idx[:n_train]].copy()\n",
    "    df_test = df.iloc[idx[n_train:n_train+n_test]].copy()\n",
    "    df_val = df.iloc[idx[n_train+n_test:]].copy()\n",
    "\n",
    "    print(len(df_train), len(df_val), len(df_test))\n",
    "    len(df_train) + len(df_val) + len(df_test)\n",
    "\n",
    "    df_train_zero = df_train.copy()\n",
    "    df_test_zero = df_test.copy()\n",
    "    df_val_zero = df_val.copy()\n",
    "\n",
    "    df_train_zero.loc[:, \"horsepower\"] = df_train_zero.loc[:, \"horsepower\"].fillna(0)\n",
    "    df_test_zero.loc[:, \"horsepower\"] = df_test_zero.loc[:, \"horsepower\"].fillna(0)\n",
    "    df_val_zero.loc[:, \"horsepower\"] = df_val_zero.loc[:, \"horsepower\"].fillna(0)\n",
    "\n",
    "    y_train_zero = df_train_zero.pop(\"fuel_efficiency_mpg\").values\n",
    "    y_val_zero = df_val_zero.pop(\"fuel_efficiency_mpg\").values\n",
    "    y_test_zero = df_test_zero.pop(\"fuel_efficiency_mpg\").values\n",
    "\n",
    "    rmse = modeling_pipeline(\n",
    "        df_train_zero, \n",
    "        y_train_zero, \n",
    "        df_val_zero, \n",
    "        y_val_zero, \n",
    "        reg=False\n",
    "    )\n",
    "\n",
    "    rmse_values.append(rmse)\n",
    "    "
   ]
  },
  {
   "cell_type": "code",
   "execution_count": 25,
   "id": "682f80fe",
   "metadata": {},
   "outputs": [
    {
     "data": {
      "text/plain": [
       "np.float64(0.008)"
      ]
     },
     "execution_count": 25,
     "metadata": {},
     "output_type": "execute_result"
    }
   ],
   "source": [
    "round(np.std(rmse_values), 3)"
   ]
  },
  {
   "cell_type": "markdown",
   "id": "0b4567eb",
   "metadata": {},
   "source": [
    "# Question 6"
   ]
  },
  {
   "cell_type": "markdown",
   "id": "c292dc51",
   "metadata": {},
   "source": [
    "- Split the dataset like previously, use seed 9.\n",
    "- Combine train and validation datasets.\n",
    "- Fill the missing values with 0 and train a model with r=0.001.\n",
    "- What's the RMSE on the test dataset?"
   ]
  },
  {
   "cell_type": "code",
   "execution_count": 26,
   "id": "a17370e9",
   "metadata": {},
   "outputs": [
    {
     "name": "stdout",
     "output_type": "stream",
     "text": [
      "RMSE: 0.51\n",
      "w0: 27.561992893690466\n",
      "length of w: [ 2.64882519e-05  3.57550468e-03 -5.01510082e-03  9.82899778e-04]\n",
      "Final RMSE: 0.51\n"
     ]
    }
   ],
   "source": [
    "\n",
    "\n",
    "np.random.seed(9)\n",
    "idx = np.arange(n)\n",
    "np.random.shuffle(idx)\n",
    "\n",
    "df_train = df.iloc[idx[:n_train]].copy()\n",
    "df_test = df.iloc[idx[n_train:n_train+n_test]].copy()\n",
    "df_val = df.iloc[idx[n_train+n_test:]].copy()\n",
    "\n",
    "\n",
    "df_full = pd.concat([df_train, df_val])\n",
    "\n",
    "\n",
    "df_test_zero = df_test.copy()\n",
    "\n",
    "df_full.loc[:, \"horsepower\"] = df_full.loc[:, \"horsepower\"].fillna(0)\n",
    "df_test_zero.loc[:, \"horsepower\"] = df_test_zero.loc[:, \"horsepower\"].fillna(0)\n",
    "\n",
    "\n",
    "y_train_zero = df_full.pop(\"fuel_efficiency_mpg\").values\n",
    "y_test_zero = df_test_zero.pop(\"fuel_efficiency_mpg\").values\n",
    "\n",
    "rmse = modeling_pipeline(\n",
    "    df_full, \n",
    "    y_train_zero, \n",
    "    df_test_zero, \n",
    "    y_test_zero, \n",
    "    reg=True,\n",
    "    r=0.001\n",
    ")\n",
    "print(\"Final RMSE:\", rmse)"
   ]
  }
 ],
 "metadata": {
  "kernelspec": {
   "display_name": "Daniel-ML-Zoomcamp-meu77ORD",
   "language": "python",
   "name": "python3"
  },
  "language_info": {
   "codemirror_mode": {
    "name": "ipython",
    "version": 3
   },
   "file_extension": ".py",
   "mimetype": "text/x-python",
   "name": "python",
   "nbconvert_exporter": "python",
   "pygments_lexer": "ipython3",
   "version": "3.12.4"
  }
 },
 "nbformat": 4,
 "nbformat_minor": 5
}
