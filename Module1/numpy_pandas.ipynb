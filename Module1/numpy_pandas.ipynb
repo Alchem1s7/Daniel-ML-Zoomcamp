{
 "cells": [
  {
   "cell_type": "markdown",
   "id": "2374e555",
   "metadata": {},
   "source": [
    "# Numpy"
   ]
  },
  {
   "cell_type": "code",
   "execution_count": 54,
   "id": "cf674e27",
   "metadata": {},
   "outputs": [],
   "source": [
    "import numpy as np"
   ]
  },
  {
   "cell_type": "code",
   "execution_count": 55,
   "id": "323df633",
   "metadata": {},
   "outputs": [
    {
     "data": {
      "text/plain": [
       "array([[ 1,  2,  3,  4],\n",
       "       [ 5,  6,  7,  8],\n",
       "       [ 9, 10, 11, 12]])"
      ]
     },
     "execution_count": 55,
     "metadata": {},
     "output_type": "execute_result"
    }
   ],
   "source": [
    "a = np.array([\n",
    "    [1, 2, 3, 4],\n",
    "    [5, 6, 7, 8],\n",
    "    [9, 10, 11, 12]\n",
    "])\n",
    "b = np.random.random((3, 4)) * 5\n",
    "\n",
    "a"
   ]
  },
  {
   "cell_type": "code",
   "execution_count": 56,
   "id": "537d71ab",
   "metadata": {},
   "outputs": [
    {
     "data": {
      "text/plain": [
       "array([[3.9005333 , 3.29911092, 4.30970131, 3.70992968],\n",
       "       [3.8751981 , 2.11981405, 0.21914528, 0.68446153],\n",
       "       [0.04381039, 3.68567579, 4.66463887, 0.85071152]])"
      ]
     },
     "execution_count": 56,
     "metadata": {},
     "output_type": "execute_result"
    }
   ],
   "source": [
    "b"
   ]
  },
  {
   "cell_type": "code",
   "execution_count": 57,
   "id": "d4bb7132",
   "metadata": {},
   "outputs": [
    {
     "data": {
      "text/plain": [
       "array([[ 3.9005333 ,  6.59822184, 12.92910393, 14.83971871],\n",
       "       [19.37599049, 12.71888428,  1.53401694,  5.4756922 ],\n",
       "       [ 0.39429354, 36.85675794, 51.31102753, 10.20853825]])"
      ]
     },
     "execution_count": 57,
     "metadata": {},
     "output_type": "execute_result"
    }
   ],
   "source": [
    "a * b"
   ]
  },
  {
   "cell_type": "code",
   "execution_count": 58,
   "id": "95341f62",
   "metadata": {},
   "outputs": [
    {
     "data": {
      "text/plain": [
       "array([[False, False, False,  True],\n",
       "       [ True,  True,  True,  True],\n",
       "       [ True,  True,  True,  True]])"
      ]
     },
     "execution_count": 58,
     "metadata": {},
     "output_type": "execute_result"
    }
   ],
   "source": [
    "a > b"
   ]
  },
  {
   "cell_type": "code",
   "execution_count": 59,
   "id": "bae2c83a",
   "metadata": {},
   "outputs": [
    {
     "data": {
      "text/plain": [
       "array([ 4,  5,  6,  7,  8,  9, 10, 11, 12])"
      ]
     },
     "execution_count": 59,
     "metadata": {},
     "output_type": "execute_result"
    }
   ],
   "source": [
    "a[a > b]"
   ]
  },
  {
   "cell_type": "code",
   "execution_count": 60,
   "id": "cadd5bd6",
   "metadata": {},
   "outputs": [
    {
     "data": {
      "text/plain": [
       "np.float64(6.5)"
      ]
     },
     "execution_count": 60,
     "metadata": {},
     "output_type": "execute_result"
    }
   ],
   "source": [
    "a.mean()"
   ]
  },
  {
   "cell_type": "code",
   "execution_count": 61,
   "id": "927ca56a",
   "metadata": {},
   "outputs": [
    {
     "data": {
      "text/plain": [
       "array([ 0. ,  2.5,  5. ,  7.5, 10. ])"
      ]
     },
     "execution_count": 61,
     "metadata": {},
     "output_type": "execute_result"
    }
   ],
   "source": [
    "np.linspace(0, 10, 5)"
   ]
  },
  {
   "cell_type": "markdown",
   "id": "0e44025b",
   "metadata": {},
   "source": [
    "# Linear Algebra Refresher"
   ]
  },
  {
   "cell_type": "markdown",
   "id": "d04cc889",
   "metadata": {},
   "source": [
    "## Vector Multiplication (dot product)"
   ]
  },
  {
   "cell_type": "code",
   "execution_count": 62,
   "id": "0c8f8ac5",
   "metadata": {},
   "outputs": [
    {
     "data": {
      "text/plain": [
       "array([3, 6, 8, 1])"
      ]
     },
     "execution_count": 62,
     "metadata": {},
     "output_type": "execute_result"
    }
   ],
   "source": [
    "u = np.array([3,6,8,1])\n",
    "u"
   ]
  },
  {
   "cell_type": "code",
   "execution_count": 63,
   "id": "443e2820",
   "metadata": {},
   "outputs": [
    {
     "data": {
      "text/plain": [
       "array([1, 2, 3, 4])"
      ]
     },
     "execution_count": 63,
     "metadata": {},
     "output_type": "execute_result"
    }
   ],
   "source": [
    "v = np.array([1,2,3,4])\n",
    "v"
   ]
  },
  {
   "cell_type": "code",
   "execution_count": 64,
   "id": "4c95b098",
   "metadata": {},
   "outputs": [
    {
     "name": "stdout",
     "output_type": "stream",
     "text": [
      "(4,) (4,)\n"
     ]
    }
   ],
   "source": [
    "print(u.shape, v.shape)"
   ]
  },
  {
   "cell_type": "code",
   "execution_count": 65,
   "id": "6b088bf2",
   "metadata": {},
   "outputs": [
    {
     "data": {
      "text/plain": [
       "np.int64(43)"
      ]
     },
     "execution_count": 65,
     "metadata": {},
     "output_type": "execute_result"
    }
   ],
   "source": [
    "# Dot product\n",
    "def dot_product(u,v):\n",
    "    assert u.shape[0] == v.shape[0] # same row count\n",
    "\n",
    "    result = 0\n",
    "    for i,j in zip(u,v):\n",
    "        r = i * j\n",
    "        result += r\n",
    "    return result\n",
    "\n",
    "dot_product(u,v)\n"
   ]
  },
  {
   "cell_type": "code",
   "execution_count": 66,
   "id": "9c62ada5",
   "metadata": {},
   "outputs": [
    {
     "data": {
      "text/plain": [
       "np.int64(43)"
      ]
     },
     "execution_count": 66,
     "metadata": {},
     "output_type": "execute_result"
    }
   ],
   "source": [
    "u.dot(v)"
   ]
  },
  {
   "cell_type": "markdown",
   "id": "86f6cc56",
   "metadata": {},
   "source": [
    "## Matrix-Vector Multiplication"
   ]
  },
  {
   "cell_type": "code",
   "execution_count": 67,
   "id": "10409018",
   "metadata": {},
   "outputs": [
    {
     "name": "stdout",
     "output_type": "stream",
     "text": [
      "(3, 4) (4,)\n"
     ]
    }
   ],
   "source": [
    "u = np.array([\n",
    "    [3,6,8,1],\n",
    "    [4,5,6,7],\n",
    "    [1,2,3,4]\n",
    "])\n",
    "\n",
    "v = np.array(\n",
    "    [\n",
    "        4,\n",
    "        2,\n",
    "        3,\n",
    "        6\n",
    "    ]\n",
    ")\n",
    "\n",
    "print(u.shape, v.shape)"
   ]
  },
  {
   "cell_type": "code",
   "execution_count": 68,
   "id": "0cdff2d7",
   "metadata": {},
   "outputs": [
    {
     "data": {
      "text/plain": [
       "array([4, 2, 3, 6])"
      ]
     },
     "execution_count": 68,
     "metadata": {},
     "output_type": "execute_result"
    }
   ],
   "source": [
    "v"
   ]
  },
  {
   "cell_type": "code",
   "execution_count": null,
   "id": "b189dbdc",
   "metadata": {},
   "outputs": [
    {
     "data": {
      "text/plain": [
       "array([54., 86., 41.])"
      ]
     },
     "execution_count": 53,
     "metadata": {},
     "output_type": "execute_result"
    }
   ],
   "source": [
    "def matrix_vector_prod(m, v):\n",
    "    # The # of cols from the matrix should \n",
    "    # be the same # of row from the vector\n",
    "    # for example: (3,4) x (4,) -> (3,) {rows, cols}\n",
    "    \n",
    "    assert m.shape[1] == v.shape[0] \n",
    "\n",
    "    rows = m.shape[0]\n",
    "\n",
    "    result = np.zeros(rows)\n",
    "    for i in range(rows):\n",
    "\n",
    "        suma = (m[i] * v).sum()\n",
    "        result[i] = suma\n",
    "\n",
    "    return result\n",
    "\n",
    "matrix_vector_prod(u,v)"
   ]
  },
  {
   "cell_type": "markdown",
   "id": "65e34056",
   "metadata": {},
   "source": [
    "## Matrix-Matrix Multiplication"
   ]
  },
  {
   "cell_type": "code",
   "execution_count": 69,
   "id": "b4f22558",
   "metadata": {},
   "outputs": [],
   "source": [
    "def matrix_matrix_product(a, b):\n",
    "\n",
    "    # Matrix a shape\n",
    "    cols_matrix_a = a.shape[1]\n",
    "    rows_matrix_a = a.shape[0]\n",
    "    # Matrix b shape\n",
    "    cols_matrix_b = b.shape[1]\n",
    "    rows_matrix_b = b.shape[0]\n",
    "\n",
    "    assert cols_matrix_a == rows_matrix_b # cols of a == rows of b\n",
    "    # For example (6,7) x (7,3) -> (6,3)\n",
    "\n",
    "    # Now we need to get the first row from matrix a (the matrix on the left)\n",
    "    # and multiuply each element by the matching vector from matrix b columns\n",
    "    # and finally sum all the multiplications of the elements\n",
    "    \n",
    "    result_matrix_zeros = np.zeros((rows_matrix_a, cols_matrix_b))\n",
    "\n",
    "    for row in range(rows_matrix_a):\n",
    "        # for example row 0\n",
    "        row_vector = a[row,:]\n",
    "        for col in range(cols_matrix_b):\n",
    "            col_vector = b[:,col]\n",
    "\n",
    "            result_vector = row_vector*col_vector\n",
    "            result_cell_element = result_vector.sum()\n",
    "\n",
    "            result_matrix_zeros[row, col] = result_cell_element\n",
    "\n",
    "    return result_matrix_zeros\n",
    "\n"
   ]
  },
  {
   "cell_type": "code",
   "execution_count": 70,
   "id": "f82b7b75",
   "metadata": {},
   "outputs": [
    {
     "data": {
      "text/plain": [
       "array([[10.,  7., 11., 23.],\n",
       "       [16., 10., 17., 38.]])"
      ]
     },
     "execution_count": 70,
     "metadata": {},
     "output_type": "execute_result"
    }
   ],
   "source": [
    "matrix_matrix_product(\n",
    "    np.array([[2,1,3],[3,2,4]]), \n",
    "    np.array([[2,0,3,4], [3,1,2,9], [1,2,1,2]])\n",
    ")"
   ]
  },
  {
   "cell_type": "markdown",
   "id": "f0018b0e",
   "metadata": {},
   "source": [
    "# Pandas"
   ]
  },
  {
   "cell_type": "markdown",
   "id": "b0bdd1df",
   "metadata": {},
   "source": [
    "is not necessary to learn pandas because I know it very well"
   ]
  }
 ],
 "metadata": {
  "kernelspec": {
   "display_name": "Daniel-ML-Zoomcamp-meu77ORD",
   "language": "python",
   "name": "python3"
  },
  "language_info": {
   "codemirror_mode": {
    "name": "ipython",
    "version": 3
   },
   "file_extension": ".py",
   "mimetype": "text/x-python",
   "name": "python",
   "nbconvert_exporter": "python",
   "pygments_lexer": "ipython3",
   "version": "3.12.4"
  }
 },
 "nbformat": 4,
 "nbformat_minor": 5
}
